{
 "cells": [
  {
   "cell_type": "code",
   "execution_count": 1,
   "metadata": {},
   "outputs": [
    {
     "name": "stderr",
     "output_type": "stream",
     "text": [
      "Using TensorFlow backend.\n"
     ]
    }
   ],
   "source": [
    "#importing rquired libraries\n",
    "import pandas as pd\n",
    "import numpy as np\n",
    "from keras.models import Sequential\n",
    "from keras.layers import Dense\n",
    "from keras.wrappers.scikit_learn import KerasRegressor\n",
    "from matplotlib import pyplot as plt"
   ]
  },
  {
   "cell_type": "code",
   "execution_count": 2,
   "metadata": {},
   "outputs": [
    {
     "data": {
      "text/html": [
       "<div>\n",
       "<style scoped>\n",
       "    .dataframe tbody tr th:only-of-type {\n",
       "        vertical-align: middle;\n",
       "    }\n",
       "\n",
       "    .dataframe tbody tr th {\n",
       "        vertical-align: top;\n",
       "    }\n",
       "\n",
       "    .dataframe thead th {\n",
       "        text-align: right;\n",
       "    }\n",
       "</style>\n",
       "<table border=\"1\" class=\"dataframe\">\n",
       "  <thead>\n",
       "    <tr style=\"text-align: right;\">\n",
       "      <th></th>\n",
       "      <th>CRIM</th>\n",
       "      <th>ZN</th>\n",
       "      <th>INDUS</th>\n",
       "      <th>CHAS</th>\n",
       "      <th>NOX</th>\n",
       "      <th>RM</th>\n",
       "      <th>AGE</th>\n",
       "      <th>DIS</th>\n",
       "      <th>RAD</th>\n",
       "      <th>TAX</th>\n",
       "      <th>PTRATIO</th>\n",
       "      <th>B</th>\n",
       "      <th>LSTAT</th>\n",
       "      <th>MEDV</th>\n",
       "    </tr>\n",
       "  </thead>\n",
       "  <tbody>\n",
       "    <tr>\n",
       "      <th>0</th>\n",
       "      <td>0.00632</td>\n",
       "      <td>18.0</td>\n",
       "      <td>2.31</td>\n",
       "      <td>0.0</td>\n",
       "      <td>0.538</td>\n",
       "      <td>6.575</td>\n",
       "      <td>65.2</td>\n",
       "      <td>4.0900</td>\n",
       "      <td>1</td>\n",
       "      <td>296.0</td>\n",
       "      <td>15.3</td>\n",
       "      <td>396.90</td>\n",
       "      <td>4.98</td>\n",
       "      <td>24.0</td>\n",
       "    </tr>\n",
       "    <tr>\n",
       "      <th>1</th>\n",
       "      <td>0.02731</td>\n",
       "      <td>0.0</td>\n",
       "      <td>7.07</td>\n",
       "      <td>0.0</td>\n",
       "      <td>0.469</td>\n",
       "      <td>6.421</td>\n",
       "      <td>78.9</td>\n",
       "      <td>4.9671</td>\n",
       "      <td>2</td>\n",
       "      <td>242.0</td>\n",
       "      <td>17.8</td>\n",
       "      <td>396.90</td>\n",
       "      <td>9.14</td>\n",
       "      <td>21.6</td>\n",
       "    </tr>\n",
       "    <tr>\n",
       "      <th>2</th>\n",
       "      <td>0.02729</td>\n",
       "      <td>0.0</td>\n",
       "      <td>7.07</td>\n",
       "      <td>0.0</td>\n",
       "      <td>0.469</td>\n",
       "      <td>7.185</td>\n",
       "      <td>61.1</td>\n",
       "      <td>4.9671</td>\n",
       "      <td>2</td>\n",
       "      <td>242.0</td>\n",
       "      <td>17.8</td>\n",
       "      <td>392.83</td>\n",
       "      <td>4.03</td>\n",
       "      <td>34.7</td>\n",
       "    </tr>\n",
       "    <tr>\n",
       "      <th>3</th>\n",
       "      <td>0.03237</td>\n",
       "      <td>0.0</td>\n",
       "      <td>2.18</td>\n",
       "      <td>0.0</td>\n",
       "      <td>0.458</td>\n",
       "      <td>6.998</td>\n",
       "      <td>45.8</td>\n",
       "      <td>6.0622</td>\n",
       "      <td>3</td>\n",
       "      <td>222.0</td>\n",
       "      <td>18.7</td>\n",
       "      <td>394.63</td>\n",
       "      <td>2.94</td>\n",
       "      <td>33.4</td>\n",
       "    </tr>\n",
       "    <tr>\n",
       "      <th>4</th>\n",
       "      <td>0.06905</td>\n",
       "      <td>0.0</td>\n",
       "      <td>2.18</td>\n",
       "      <td>0.0</td>\n",
       "      <td>0.458</td>\n",
       "      <td>7.147</td>\n",
       "      <td>54.2</td>\n",
       "      <td>6.0622</td>\n",
       "      <td>3</td>\n",
       "      <td>222.0</td>\n",
       "      <td>18.7</td>\n",
       "      <td>396.90</td>\n",
       "      <td>5.33</td>\n",
       "      <td>36.2</td>\n",
       "    </tr>\n",
       "  </tbody>\n",
       "</table>\n",
       "</div>"
      ],
      "text/plain": [
       "      CRIM    ZN  INDUS  CHAS    NOX     RM   AGE     DIS  RAD    TAX  \\\n",
       "0  0.00632  18.0   2.31   0.0  0.538  6.575  65.2  4.0900    1  296.0   \n",
       "1  0.02731   0.0   7.07   0.0  0.469  6.421  78.9  4.9671    2  242.0   \n",
       "2  0.02729   0.0   7.07   0.0  0.469  7.185  61.1  4.9671    2  242.0   \n",
       "3  0.03237   0.0   2.18   0.0  0.458  6.998  45.8  6.0622    3  222.0   \n",
       "4  0.06905   0.0   2.18   0.0  0.458  7.147  54.2  6.0622    3  222.0   \n",
       "\n",
       "   PTRATIO       B  LSTAT  MEDV  \n",
       "0     15.3  396.90   4.98  24.0  \n",
       "1     17.8  396.90   9.14  21.6  \n",
       "2     17.8  392.83   4.03  34.7  \n",
       "3     18.7  394.63   2.94  33.4  \n",
       "4     18.7  396.90   5.33  36.2  "
      ]
     },
     "execution_count": 2,
     "metadata": {},
     "output_type": "execute_result"
    }
   ],
   "source": [
    "#loading dataset and giving header names\n",
    "boston_df = pd.read_csv(\"boston_dataset.csv\", names = ['CRIM', 'ZN', 'INDUS', 'CHAS', 'NOX', 'RM', 'AGE', 'DIS',\n",
    "                                                      'RAD', 'TAX', 'PTRATIO', 'B', 'LSTAT', 'MEDV'])\n",
    "boston_df.head()"
   ]
  },
  {
   "cell_type": "code",
   "execution_count": 3,
   "metadata": {},
   "outputs": [
    {
     "name": "stdout",
     "output_type": "stream",
     "text": [
      "<class 'pandas.core.frame.DataFrame'>\n",
      "RangeIndex: 506 entries, 0 to 505\n",
      "Data columns (total 14 columns):\n",
      " #   Column   Non-Null Count  Dtype  \n",
      "---  ------   --------------  -----  \n",
      " 0   CRIM     506 non-null    float64\n",
      " 1   ZN       506 non-null    float64\n",
      " 2   INDUS    506 non-null    float64\n",
      " 3   CHAS     506 non-null    float64\n",
      " 4   NOX      506 non-null    float64\n",
      " 5   RM       506 non-null    float64\n",
      " 6   AGE      506 non-null    float64\n",
      " 7   DIS      506 non-null    float64\n",
      " 8   RAD      506 non-null    int64  \n",
      " 9   TAX      506 non-null    float64\n",
      " 10  PTRATIO  506 non-null    float64\n",
      " 11  B        506 non-null    float64\n",
      " 12  LSTAT    506 non-null    float64\n",
      " 13  MEDV     452 non-null    float64\n",
      "dtypes: float64(13), int64(1)\n",
      "memory usage: 55.5 KB\n"
     ]
    }
   ],
   "source": [
    "#checking info of dataset\n",
    "boston_df.info()"
   ]
  },
  {
   "cell_type": "code",
   "execution_count": 4,
   "metadata": {},
   "outputs": [],
   "source": [
    "#droping the rows which have empty fields\n",
    "boston_df = boston_df.dropna(axis = 0, how ='any') "
   ]
  },
  {
   "cell_type": "code",
   "execution_count": 5,
   "metadata": {},
   "outputs": [
    {
     "name": "stdout",
     "output_type": "stream",
     "text": [
      "<class 'pandas.core.frame.DataFrame'>\n",
      "Int64Index: 452 entries, 0 to 505\n",
      "Data columns (total 14 columns):\n",
      " #   Column   Non-Null Count  Dtype  \n",
      "---  ------   --------------  -----  \n",
      " 0   CRIM     452 non-null    float64\n",
      " 1   ZN       452 non-null    float64\n",
      " 2   INDUS    452 non-null    float64\n",
      " 3   CHAS     452 non-null    float64\n",
      " 4   NOX      452 non-null    float64\n",
      " 5   RM       452 non-null    float64\n",
      " 6   AGE      452 non-null    float64\n",
      " 7   DIS      452 non-null    float64\n",
      " 8   RAD      452 non-null    int64  \n",
      " 9   TAX      452 non-null    float64\n",
      " 10  PTRATIO  452 non-null    float64\n",
      " 11  B        452 non-null    float64\n",
      " 12  LSTAT    452 non-null    float64\n",
      " 13  MEDV     452 non-null    float64\n",
      "dtypes: float64(13), int64(1)\n",
      "memory usage: 53.0 KB\n"
     ]
    }
   ],
   "source": [
    "boston_df.info()"
   ]
  },
  {
   "cell_type": "code",
   "execution_count": 6,
   "metadata": {},
   "outputs": [],
   "source": [
    "#splitting the dataset into independent variables and target varibale\n",
    "X = boston_df.drop(['MEDV'], axis=1)\n",
    "y = boston_df.MEDV"
   ]
  },
  {
   "cell_type": "code",
   "execution_count": 7,
   "metadata": {},
   "outputs": [],
   "source": [
    "#importing and performing train_test_split\n",
    "from sklearn.model_selection import train_test_split\n",
    "X_train,X_test,y_train,y_test = train_test_split(X,y,test_size=0.20,random_state=34)"
   ]
  },
  {
   "cell_type": "code",
   "execution_count": 8,
   "metadata": {},
   "outputs": [
    {
     "name": "stdout",
     "output_type": "stream",
     "text": [
      "(361, 13)\n",
      "(361,)\n",
      "(91, 13)\n",
      "(91,)\n"
     ]
    }
   ],
   "source": [
    "#checking the shape of train and test dataset\n",
    "print(X_train.shape)\n",
    "print(y_train.shape)\n",
    "print(X_test.shape)\n",
    "print(y_test.shape)"
   ]
  },
  {
   "cell_type": "code",
   "execution_count": 9,
   "metadata": {},
   "outputs": [],
   "source": [
    "#importing standard scaler\n",
    "from sklearn.preprocessing import StandardScaler\n",
    "standard_scaler = StandardScaler()"
   ]
  },
  {
   "cell_type": "code",
   "execution_count": 10,
   "metadata": {},
   "outputs": [
    {
     "data": {
      "text/plain": [
       "StandardScaler(copy=True, with_mean=True, with_std=True)"
      ]
     },
     "execution_count": 10,
     "metadata": {},
     "output_type": "execute_result"
    }
   ],
   "source": [
    "#fitting the standard scaler to the independent dataset\n",
    "standard_scaler.fit(X_train)\n",
    "standard_scaler.fit(X_test)"
   ]
  },
  {
   "cell_type": "code",
   "execution_count": 11,
   "metadata": {},
   "outputs": [],
   "source": [
    "#transforing the independent dsataset\n",
    "X_train_scaled = standard_scaler.transform(X_train)\n",
    "X_test_scaled = standard_scaler.transform(X_test)"
   ]
  },
  {
   "cell_type": "code",
   "execution_count": 12,
   "metadata": {},
   "outputs": [
    {
     "name": "stdout",
     "output_type": "stream",
     "text": [
      "[[ 0.68860867 -0.52571134  1.07518399 ...  0.86406032  0.33518515\n",
      "  -0.21766575]\n",
      " [-0.31294277 -0.52571134  1.59900053 ...  1.30210761  0.24101319\n",
      "  -0.09587999]\n",
      " [ 3.7347664  -0.52571134  1.07518399 ...  0.86406032  0.1140915\n",
      "   1.50299298]\n",
      " ...\n",
      " [ 1.14636856 -0.52571134  1.07518399 ...  0.86406032 -0.22077134\n",
      "   0.43823753]\n",
      " [-0.53635275 -0.52571134  2.11867077 ...  0.3822083   0.14013346\n",
      "   1.08892141]\n",
      " [ 1.11856479 -0.52571134  1.07518399 ...  0.86406032 -4.54321136\n",
      "   0.95321729]]\n",
      "[[-0.56931635  2.23062901 -1.18317018 ... -0.01203427 -0.33980153\n",
      "   0.21902317]\n",
      " [-0.55060072  0.16337374 -0.96618021 ... -1.45759033  0.1267179\n",
      "  -1.50685494]\n",
      " [-0.56218787  0.33564502 -0.75471865 ...  0.33840357  0.30519743\n",
      "  -0.72394652]\n",
      " ...\n",
      " [-0.34436472  0.16337374 -0.8777257  ... -2.28988019  0.25548095\n",
      "  -1.00231396]\n",
      " [-0.55683927 -0.52571134  0.22242725 ...  1.21449816  0.38753213\n",
      "  -0.65957405]\n",
      " [-0.53599768 -0.09503316 -0.33870604 ... -1.32617615  0.30335608\n",
      "   0.70268659]]\n"
     ]
    }
   ],
   "source": [
    "print(X_train_scaled)\n",
    "print(X_test_scaled)"
   ]
  },
  {
   "cell_type": "code",
   "execution_count": 13,
   "metadata": {},
   "outputs": [],
   "source": [
    "#importing keras models\n",
    "from keras import models, layers\n",
    "seq_model = models.Sequential()\n",
    "\n",
    "#adding the layes to the model\n",
    "seq_model.add(layers.Dense(8, activation='relu', input_shape = [X_train.shape[1]]))\n",
    "seq_model.add(layers.Dense(16, activation='relu'))\n",
    "seq_model.add(layers.Dense(1))\n",
    "\n",
    "#compliling the model\n",
    "seq_model.compile(optimizer='rmsprop', loss='mse', metrics=['mae'])"
   ]
  },
  {
   "cell_type": "code",
   "execution_count": 14,
   "metadata": {},
   "outputs": [
    {
     "name": "stdout",
     "output_type": "stream",
     "text": [
      "Train on 288 samples, validate on 73 samples\n",
      "Epoch 1/100\n",
      "288/288 [==============================] - 0s 425us/step - loss: 638.4903 - mae: 23.7044 - val_loss: 661.0659 - val_mae: 24.3141\n",
      "Epoch 2/100\n",
      "288/288 [==============================] - 0s 343us/step - loss: 624.8945 - mae: 23.4381 - val_loss: 648.5620 - val_mae: 24.0770\n",
      "Epoch 3/100\n",
      "288/288 [==============================] - 0s 42us/step - loss: 613.1836 - mae: 23.2117 - val_loss: 636.0702 - val_mae: 23.8397\n",
      "Epoch 4/100\n",
      "288/288 [==============================] - 0s 39us/step - loss: 601.2833 - mae: 22.9766 - val_loss: 623.2056 - val_mae: 23.5936\n",
      "Epoch 5/100\n",
      "288/288 [==============================] - 0s 40us/step - loss: 588.9628 - mae: 22.7301 - val_loss: 609.9212 - val_mae: 23.3367\n",
      "Epoch 6/100\n",
      "288/288 [==============================] - 0s 41us/step - loss: 575.9673 - mae: 22.4740 - val_loss: 595.3397 - val_mae: 23.0524\n",
      "Epoch 7/100\n",
      "288/288 [==============================] - 0s 41us/step - loss: 562.0211 - mae: 22.1949 - val_loss: 579.7876 - val_mae: 22.7451\n",
      "Epoch 8/100\n",
      "288/288 [==============================] - 0s 56us/step - loss: 547.0226 - mae: 21.8884 - val_loss: 563.0045 - val_mae: 22.4093\n",
      "Epoch 9/100\n",
      "288/288 [==============================] - 0s 41us/step - loss: 531.4721 - mae: 21.5632 - val_loss: 545.9940 - val_mae: 22.0621\n",
      "Epoch 10/100\n",
      "288/288 [==============================] - 0s 40us/step - loss: 515.1097 - mae: 21.2222 - val_loss: 527.7468 - val_mae: 21.6846\n",
      "Epoch 11/100\n",
      "288/288 [==============================] - 0s 40us/step - loss: 498.2119 - mae: 20.8606 - val_loss: 509.5214 - val_mae: 21.2989\n",
      "Epoch 12/100\n",
      "288/288 [==============================] - 0s 38us/step - loss: 480.7744 - mae: 20.4755 - val_loss: 490.2681 - val_mae: 20.8808\n",
      "Epoch 13/100\n",
      "288/288 [==============================] - 0s 38us/step - loss: 462.8330 - mae: 20.0689 - val_loss: 470.8654 - val_mae: 20.4473\n",
      "Epoch 14/100\n",
      "288/288 [==============================] - 0s 38us/step - loss: 444.4323 - mae: 19.6426 - val_loss: 450.7195 - val_mae: 19.9842\n",
      "Epoch 15/100\n",
      "288/288 [==============================] - 0s 80us/step - loss: 425.4747 - mae: 19.1863 - val_loss: 430.0468 - val_mae: 19.4935\n",
      "Epoch 16/100\n",
      "288/288 [==============================] - 0s 36us/step - loss: 406.0686 - mae: 18.7093 - val_loss: 408.8557 - val_mae: 18.9724\n",
      "Epoch 17/100\n",
      "288/288 [==============================] - 0s 36us/step - loss: 386.7231 - mae: 18.2044 - val_loss: 387.9261 - val_mae: 18.4361\n",
      "Epoch 18/100\n",
      "288/288 [==============================] - 0s 34us/step - loss: 367.3171 - mae: 17.6850 - val_loss: 366.3997 - val_mae: 17.8621\n",
      "Epoch 19/100\n",
      "288/288 [==============================] - 0s 36us/step - loss: 347.9810 - mae: 17.1332 - val_loss: 345.4451 - val_mae: 17.2776\n",
      "Epoch 20/100\n",
      "288/288 [==============================] - 0s 36us/step - loss: 328.5599 - mae: 16.5545 - val_loss: 323.6258 - val_mae: 16.6375\n",
      "Epoch 21/100\n",
      "288/288 [==============================] - 0s 35us/step - loss: 309.3741 - mae: 15.9474 - val_loss: 302.4987 - val_mae: 15.9808\n",
      "Epoch 22/100\n",
      "288/288 [==============================] - 0s 37us/step - loss: 290.3437 - mae: 15.3058 - val_loss: 281.6437 - val_mae: 15.2884\n",
      "Epoch 23/100\n",
      "288/288 [==============================] - 0s 38us/step - loss: 271.9039 - mae: 14.6406 - val_loss: 260.8862 - val_mae: 14.5585\n",
      "Epoch 24/100\n",
      "288/288 [==============================] - 0s 36us/step - loss: 253.8220 - mae: 13.9525 - val_loss: 240.7579 - val_mae: 13.8300\n",
      "Epoch 25/100\n",
      "288/288 [==============================] - 0s 37us/step - loss: 236.7732 - mae: 13.2342 - val_loss: 221.8735 - val_mae: 13.0809\n",
      "Epoch 26/100\n",
      "288/288 [==============================] - 0s 36us/step - loss: 220.8391 - mae: 12.5000 - val_loss: 204.0903 - val_mae: 12.2994\n",
      "Epoch 27/100\n",
      "288/288 [==============================] - 0s 39us/step - loss: 206.2763 - mae: 11.8369 - val_loss: 187.9947 - val_mae: 11.5878\n",
      "Epoch 28/100\n",
      "288/288 [==============================] - 0s 39us/step - loss: 193.2883 - mae: 11.2419 - val_loss: 173.6869 - val_mae: 10.9599\n",
      "Epoch 29/100\n",
      "288/288 [==============================] - 0s 39us/step - loss: 181.9195 - mae: 10.7279 - val_loss: 161.0693 - val_mae: 10.3563\n",
      "Epoch 30/100\n",
      "288/288 [==============================] - 0s 37us/step - loss: 172.0667 - mae: 10.2792 - val_loss: 149.9954 - val_mae: 9.8455\n",
      "Epoch 31/100\n",
      "288/288 [==============================] - 0s 36us/step - loss: 163.4684 - mae: 9.8981 - val_loss: 140.4612 - val_mae: 9.4929\n",
      "Epoch 32/100\n",
      "288/288 [==============================] - 0s 37us/step - loss: 156.1291 - mae: 9.5770 - val_loss: 132.1402 - val_mae: 9.2148\n",
      "Epoch 33/100\n",
      "288/288 [==============================] - 0s 35us/step - loss: 149.5949 - mae: 9.3394 - val_loss: 124.7101 - val_mae: 8.9533\n",
      "Epoch 34/100\n",
      "288/288 [==============================] - 0s 36us/step - loss: 143.7813 - mae: 9.0764 - val_loss: 118.4011 - val_mae: 8.7104\n",
      "Epoch 35/100\n",
      "288/288 [==============================] - 0s 36us/step - loss: 138.3671 - mae: 8.8165 - val_loss: 112.3272 - val_mae: 8.4696\n",
      "Epoch 36/100\n",
      "288/288 [==============================] - 0s 37us/step - loss: 133.1687 - mae: 8.5564 - val_loss: 106.5936 - val_mae: 8.2229\n",
      "Epoch 37/100\n",
      "288/288 [==============================] - 0s 36us/step - loss: 127.9143 - mae: 8.3147 - val_loss: 101.1371 - val_mae: 7.9802\n",
      "Epoch 38/100\n",
      "288/288 [==============================] - 0s 36us/step - loss: 122.8414 - mae: 8.0500 - val_loss: 96.2787 - val_mae: 7.7572\n",
      "Epoch 39/100\n",
      "288/288 [==============================] - 0s 35us/step - loss: 118.0536 - mae: 7.7972 - val_loss: 91.4658 - val_mae: 7.5244\n",
      "Epoch 40/100\n",
      "288/288 [==============================] - 0s 34us/step - loss: 113.4250 - mae: 7.5526 - val_loss: 86.8137 - val_mae: 7.2936\n",
      "Epoch 41/100\n",
      "288/288 [==============================] - 0s 35us/step - loss: 108.6384 - mae: 7.3101 - val_loss: 82.0774 - val_mae: 7.0431\n",
      "Epoch 42/100\n",
      "288/288 [==============================] - 0s 35us/step - loss: 104.0316 - mae: 7.0699 - val_loss: 77.9102 - val_mae: 6.8292\n",
      "Epoch 43/100\n",
      "288/288 [==============================] - 0s 35us/step - loss: 99.5934 - mae: 6.8404 - val_loss: 73.8522 - val_mae: 6.6212\n",
      "Epoch 44/100\n",
      "288/288 [==============================] - 0s 36us/step - loss: 95.4052 - mae: 6.6253 - val_loss: 70.0459 - val_mae: 6.4156\n",
      "Epoch 45/100\n",
      "288/288 [==============================] - 0s 39us/step - loss: 91.2752 - mae: 6.4367 - val_loss: 66.3632 - val_mae: 6.2089\n",
      "Epoch 46/100\n",
      "288/288 [==============================] - 0s 37us/step - loss: 87.3695 - mae: 6.2387 - val_loss: 62.8414 - val_mae: 6.0084\n",
      "Epoch 47/100\n",
      "288/288 [==============================] - 0s 33us/step - loss: 83.4769 - mae: 6.0404 - val_loss: 59.3759 - val_mae: 5.7977\n",
      "Epoch 48/100\n",
      "288/288 [==============================] - 0s 36us/step - loss: 79.6976 - mae: 5.8764 - val_loss: 56.1984 - val_mae: 5.6109\n",
      "Epoch 49/100\n",
      "288/288 [==============================] - 0s 35us/step - loss: 76.0529 - mae: 5.7052 - val_loss: 53.1541 - val_mae: 5.4313\n",
      "Epoch 50/100\n",
      "288/288 [==============================] - 0s 35us/step - loss: 72.5606 - mae: 5.5326 - val_loss: 50.3929 - val_mae: 5.2649\n",
      "Epoch 51/100\n",
      "288/288 [==============================] - 0s 35us/step - loss: 69.2473 - mae: 5.3702 - val_loss: 47.7489 - val_mae: 5.0946\n",
      "Epoch 52/100\n",
      "288/288 [==============================] - 0s 36us/step - loss: 66.2434 - mae: 5.2000 - val_loss: 45.3623 - val_mae: 4.9422\n",
      "Epoch 53/100\n",
      "288/288 [==============================] - 0s 35us/step - loss: 63.3321 - mae: 5.0678 - val_loss: 43.1453 - val_mae: 4.8168\n",
      "Epoch 54/100\n",
      "288/288 [==============================] - 0s 36us/step - loss: 60.4113 - mae: 4.9028 - val_loss: 40.8886 - val_mae: 4.6894\n",
      "Epoch 55/100\n",
      "288/288 [==============================] - 0s 35us/step - loss: 57.5566 - mae: 4.7726 - val_loss: 38.8811 - val_mae: 4.5683\n",
      "Epoch 56/100\n",
      "288/288 [==============================] - 0s 34us/step - loss: 54.7840 - mae: 4.6208 - val_loss: 36.9799 - val_mae: 4.4492\n",
      "Epoch 57/100\n",
      "288/288 [==============================] - 0s 35us/step - loss: 52.2164 - mae: 4.5144 - val_loss: 35.4825 - val_mae: 4.3479\n",
      "Epoch 58/100\n",
      "288/288 [==============================] - 0s 34us/step - loss: 49.7966 - mae: 4.3951 - val_loss: 33.9578 - val_mae: 4.2520\n",
      "Epoch 59/100\n",
      "288/288 [==============================] - 0s 36us/step - loss: 47.3290 - mae: 4.2724 - val_loss: 32.5891 - val_mae: 4.1598\n",
      "Epoch 60/100\n",
      "288/288 [==============================] - 0s 36us/step - loss: 45.0620 - mae: 4.1672 - val_loss: 31.2734 - val_mae: 4.0671\n",
      "Epoch 61/100\n",
      "288/288 [==============================] - 0s 37us/step - loss: 42.8913 - mae: 4.0812 - val_loss: 30.2059 - val_mae: 3.9790\n",
      "Epoch 62/100\n",
      "288/288 [==============================] - 0s 36us/step - loss: 40.9339 - mae: 4.0030 - val_loss: 29.3528 - val_mae: 3.9383\n",
      "Epoch 63/100\n",
      "288/288 [==============================] - 0s 38us/step - loss: 39.1425 - mae: 3.8926 - val_loss: 28.4311 - val_mae: 3.8813\n",
      "Epoch 64/100\n",
      "288/288 [==============================] - 0s 35us/step - loss: 37.5660 - mae: 3.8319 - val_loss: 27.7350 - val_mae: 3.8420\n",
      "Epoch 65/100\n",
      "288/288 [==============================] - 0s 35us/step - loss: 36.0548 - mae: 3.7759 - val_loss: 27.1216 - val_mae: 3.8124\n",
      "Epoch 66/100\n",
      "288/288 [==============================] - 0s 35us/step - loss: 34.6456 - mae: 3.6949 - val_loss: 26.5499 - val_mae: 3.7754\n",
      "Epoch 67/100\n",
      "288/288 [==============================] - 0s 35us/step - loss: 33.4231 - mae: 3.6439 - val_loss: 26.1007 - val_mae: 3.7550\n",
      "Epoch 68/100\n",
      "288/288 [==============================] - 0s 35us/step - loss: 32.2297 - mae: 3.5814 - val_loss: 25.5219 - val_mae: 3.7331\n",
      "Epoch 69/100\n",
      "288/288 [==============================] - 0s 34us/step - loss: 31.3061 - mae: 3.5406 - val_loss: 24.9580 - val_mae: 3.7037\n",
      "Epoch 70/100\n",
      "288/288 [==============================] - 0s 34us/step - loss: 30.4403 - mae: 3.4967 - val_loss: 24.5390 - val_mae: 3.6820\n",
      "Epoch 71/100\n",
      "288/288 [==============================] - 0s 35us/step - loss: 29.5932 - mae: 3.4789 - val_loss: 24.2529 - val_mae: 3.6746\n",
      "Epoch 72/100\n",
      "288/288 [==============================] - 0s 36us/step - loss: 28.8590 - mae: 3.4186 - val_loss: 23.8730 - val_mae: 3.6450\n",
      "Epoch 73/100\n",
      "288/288 [==============================] - 0s 34us/step - loss: 28.1705 - mae: 3.3818 - val_loss: 23.5495 - val_mae: 3.6191\n",
      "Epoch 74/100\n",
      "288/288 [==============================] - 0s 35us/step - loss: 27.5593 - mae: 3.3548 - val_loss: 23.3257 - val_mae: 3.6070\n",
      "Epoch 75/100\n",
      "288/288 [==============================] - 0s 37us/step - loss: 27.1087 - mae: 3.3254 - val_loss: 23.0821 - val_mae: 3.5893\n",
      "Epoch 76/100\n",
      "288/288 [==============================] - 0s 34us/step - loss: 26.6030 - mae: 3.3110 - val_loss: 22.9538 - val_mae: 3.5825\n",
      "Epoch 77/100\n",
      "288/288 [==============================] - 0s 34us/step - loss: 26.1384 - mae: 3.2910 - val_loss: 22.8158 - val_mae: 3.5756\n",
      "Epoch 78/100\n",
      "288/288 [==============================] - 0s 34us/step - loss: 25.6305 - mae: 3.2514 - val_loss: 22.5950 - val_mae: 3.5575\n",
      "Epoch 79/100\n",
      "288/288 [==============================] - 0s 34us/step - loss: 25.1438 - mae: 3.2445 - val_loss: 22.4902 - val_mae: 3.5516\n",
      "Epoch 80/100\n",
      "288/288 [==============================] - 0s 35us/step - loss: 24.7046 - mae: 3.2006 - val_loss: 22.3910 - val_mae: 3.5466\n",
      "Epoch 81/100\n",
      "288/288 [==============================] - 0s 37us/step - loss: 24.3590 - mae: 3.1830 - val_loss: 22.1854 - val_mae: 3.5338\n",
      "Epoch 82/100\n",
      "288/288 [==============================] - 0s 35us/step - loss: 23.9101 - mae: 3.1531 - val_loss: 22.0385 - val_mae: 3.5269\n",
      "Epoch 83/100\n",
      "288/288 [==============================] - 0s 35us/step - loss: 23.5630 - mae: 3.1401 - val_loss: 21.9833 - val_mae: 3.5151\n",
      "Epoch 84/100\n",
      "288/288 [==============================] - 0s 35us/step - loss: 23.2309 - mae: 3.1089 - val_loss: 21.8281 - val_mae: 3.5172\n",
      "Epoch 85/100\n",
      "288/288 [==============================] - 0s 34us/step - loss: 22.8420 - mae: 3.0900 - val_loss: 21.7560 - val_mae: 3.5061\n",
      "Epoch 86/100\n",
      "288/288 [==============================] - 0s 35us/step - loss: 22.5596 - mae: 3.0688 - val_loss: 21.6090 - val_mae: 3.5012\n",
      "Epoch 87/100\n",
      "288/288 [==============================] - 0s 36us/step - loss: 22.3102 - mae: 3.0432 - val_loss: 21.5048 - val_mae: 3.4939\n",
      "Epoch 88/100\n",
      "288/288 [==============================] - 0s 36us/step - loss: 22.0112 - mae: 3.0402 - val_loss: 21.4915 - val_mae: 3.4823\n",
      "Epoch 89/100\n",
      "288/288 [==============================] - 0s 35us/step - loss: 21.7587 - mae: 3.0064 - val_loss: 21.3676 - val_mae: 3.4802\n",
      "Epoch 90/100\n",
      "288/288 [==============================] - 0s 35us/step - loss: 21.5164 - mae: 3.0023 - val_loss: 21.3507 - val_mae: 3.4666\n",
      "Epoch 91/100\n",
      "288/288 [==============================] - 0s 36us/step - loss: 21.1853 - mae: 2.9800 - val_loss: 21.2213 - val_mae: 3.4645\n",
      "Epoch 92/100\n",
      "288/288 [==============================] - 0s 36us/step - loss: 21.0063 - mae: 2.9672 - val_loss: 21.1293 - val_mae: 3.4608\n",
      "Epoch 93/100\n",
      "288/288 [==============================] - 0s 35us/step - loss: 20.7240 - mae: 2.9426 - val_loss: 21.1667 - val_mae: 3.4473\n",
      "Epoch 94/100\n",
      "288/288 [==============================] - 0s 34us/step - loss: 20.5195 - mae: 2.9253 - val_loss: 20.9770 - val_mae: 3.4489\n",
      "Epoch 95/100\n",
      "288/288 [==============================] - 0s 33us/step - loss: 20.3191 - mae: 2.9343 - val_loss: 20.9101 - val_mae: 3.4506\n",
      "Epoch 96/100\n",
      "288/288 [==============================] - 0s 36us/step - loss: 20.0622 - mae: 2.8932 - val_loss: 20.8264 - val_mae: 3.4307\n",
      "Epoch 97/100\n",
      "288/288 [==============================] - 0s 36us/step - loss: 19.9269 - mae: 2.8983 - val_loss: 20.7128 - val_mae: 3.4328\n",
      "Epoch 98/100\n",
      "288/288 [==============================] - 0s 36us/step - loss: 19.7541 - mae: 2.8818 - val_loss: 20.6413 - val_mae: 3.4277\n",
      "Epoch 99/100\n",
      "288/288 [==============================] - 0s 38us/step - loss: 19.5630 - mae: 2.8626 - val_loss: 20.4677 - val_mae: 3.4417\n",
      "Epoch 100/100\n",
      "288/288 [==============================] - 0s 35us/step - loss: 19.4330 - mae: 2.8640 - val_loss: 20.4263 - val_mae: 3.4233\n"
     ]
    }
   ],
   "source": [
    "#training the model\n",
    "train_model = seq_model.fit(X_train_scaled, y_train, validation_split=0.2, epochs=100)"
   ]
  },
  {
   "cell_type": "code",
   "execution_count": 15,
   "metadata": {},
   "outputs": [
    {
     "name": "stdout",
     "output_type": "stream",
     "text": [
      "91/91 [==============================] - 0s 28us/step\n"
     ]
    },
    {
     "data": {
      "text/plain": [
       "[14.249592068431141, 2.905672788619995]"
      ]
     },
     "execution_count": 15,
     "metadata": {},
     "output_type": "execute_result"
    }
   ],
   "source": [
    "#evaluating the model\n",
    "seq_model.evaluate(X_test_scaled, y_test)"
   ]
  },
  {
   "cell_type": "code",
   "execution_count": 16,
   "metadata": {},
   "outputs": [
    {
     "name": "stdout",
     "output_type": "stream",
     "text": [
      "[[18.502903]\n",
      " [21.72413 ]]\n",
      "483    21.8\n",
      "132    23.0\n",
      "Name: MEDV, dtype: float64\n"
     ]
    }
   ],
   "source": [
    "#predicting the result from the model\n",
    "predict = X_train_scaled[:2]\n",
    "prediction = seq_model.predict(predict)\n",
    "print(prediction)\n",
    "print(y_train[:2])"
   ]
  },
  {
   "cell_type": "code",
   "execution_count": 17,
   "metadata": {},
   "outputs": [
    {
     "name": "stdout",
     "output_type": "stream",
     "text": [
      "[[24.741747]\n",
      " [45.213173]\n",
      " [22.893396]\n",
      " [26.74046 ]\n",
      " [22.801376]\n",
      " [28.025581]\n",
      " [24.98629 ]\n",
      " [18.882563]\n",
      " [26.716309]\n",
      " [17.531857]]\n",
      "286    20.1\n",
      "282    46.0\n",
      "83     22.9\n",
      "252    29.6\n",
      "50     19.7\n",
      "236    25.1\n",
      "81     23.9\n",
      "450    13.4\n",
      "300    24.8\n",
      "491    13.6\n",
      "Name: MEDV, dtype: float64\n"
     ]
    }
   ],
   "source": [
    "predict_all = seq_model.predict(X_test_scaled)\n",
    "print(predict_all[0:10])\n",
    "print(y_test[0:10])"
   ]
  },
  {
   "cell_type": "code",
   "execution_count": 18,
   "metadata": {},
   "outputs": [
    {
     "data": {
      "image/png": "[encoded data removed]",
      "text/plain": [
       "<Figure size 432x288 with 1 Axes>"
      ]
     },
     "metadata": {
      "needs_background": "light"
     },
     "output_type": "display_data"
    }
   ],
   "source": [
    "#plotting the model loss\n",
    "plt.plot(train_model.history['loss'])\n",
    "plt.plot(train_model.history['val_loss'])\n",
    "plt.title('model loss')\n",
    "plt.ylabel('loss')\n",
    "plt.xlabel('epoch')\n",
    "plt.legend(['train', 'val'], loc='upper left')\n",
    "plt.show()"
   ]
  },
  {
   "cell_type": "code",
   "execution_count": null,
   "metadata": {},
   "outputs": [],
   "source": []
  },
  {
   "cell_type": "code",
   "execution_count": null,
   "metadata": {},
   "outputs": [],
   "source": []
  }
 ],
 "metadata": {
  "kernelspec": {
   "display_name": "Python 3",
   "language": "python",
   "name": "python3"
  },
  "language_info": {
   "codemirror_mode": {
    "name": "ipython",
    "version": 3
   },
   "file_extension": ".py",
   "mimetype": "text/x-python",
   "name": "python",
   "nbconvert_exporter": "python",
   "pygments_lexer": "ipython3",
   "version": "3.7.6"
  }
 },
 "nbformat": 4,
 "nbformat_minor": 4
}
